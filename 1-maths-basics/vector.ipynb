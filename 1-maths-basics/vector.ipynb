{
 "cells": [
  {
   "cell_type": "markdown",
   "metadata": {},
   "source": [
    "## Import libraries ##"
   ]
  },
  {
   "cell_type": "code",
   "execution_count": 33,
   "metadata": {},
   "outputs": [],
   "source": [
    "import matplotlib.pyplot as plt\n",
    "import numpy as np\n",
    "import ipywidgets as widgets\n",
    "from IPython.display import display\n",
    "from mpl_toolkits.mplot3d import Axes3D\n",
    "import ipywidgets as widgets"
   ]
  },
  {
   "cell_type": "markdown",
   "metadata": {},
   "source": [
    "## Vector definition ##"
   ]
  },
  {
   "cell_type": "code",
   "execution_count": 34,
   "metadata": {},
   "outputs": [
    {
     "data": {
      "application/vnd.jupyter.widget-view+json": {
       "model_id": "b5402dee5a0143e69de909efdbea9124",
       "version_major": 2,
       "version_minor": 0
      },
      "text/plain": [
       "HBox(children=(VBox(children=(FloatSlider(value=1.0, description='Vector 1 X:', max=5.0, min=-5.0), FloatSlide…"
      ]
     },
     "metadata": {},
     "output_type": "display_data"
    },
    {
     "data": {
      "application/vnd.jupyter.widget-view+json": {
       "model_id": "acc620298aa842ff8a76ed3c6e9ca396",
       "version_major": 2,
       "version_minor": 0
      },
      "text/plain": [
       "Output()"
      ]
     },
     "metadata": {},
     "output_type": "display_data"
    }
   ],
   "source": [
    "def plot_vectors(x1, y1, scale1):\n",
    "    # Define the two vectors and the sum vector\n",
    "    vector1 = np.array([x1, y1])\n",
    "\n",
    "    # Apply scaling to the original vectors\n",
    "    scaled_vector1 = scale1 * vector1\n",
    "\n",
    "    # Create the figure and axes\n",
    "    fig, ax = plt.subplots()\n",
    "    ax.set_aspect('equal', adjustable='box')\n",
    "    ax.quiver(0, 0, vector1[0], vector1[1], angles='xy', scale_units='xy', scale=1, color='b', label='Vector 1')\n",
    "    ax.quiver(0, 0, scaled_vector1[0], scaled_vector1[1], angles='xy', scale_units='xy', scale=1, color='b', alpha=0.5, label='Vector 1 Scaled')\n",
    "   \n",
    "    ax.set_xlim([-5, 5])\n",
    "    ax.set_ylim([-5, 5])\n",
    "    ax.axhline(y=0, color='k')\n",
    "    ax.axvline(x=0, color='k')\n",
    "    ax.legend()\n",
    "\n",
    "    plt.title(f\"Vector 1 Magnitude: {np.linalg.norm(vector1):.2f}\")\n",
    "    plt.grid()\n",
    "    plt.show()\n",
    "\n",
    "# Create sliders for vector 1 coordinates and scale\n",
    "x1_slider = widgets.FloatSlider(value=1.0, min=-5.0, max=5.0, step=0.1, description='Vector 1 X:')\n",
    "y1_slider = widgets.FloatSlider(value=2.0, min=-5.0, max=5.0, step=0.1, description='Vector 1 Y:')\n",
    "scale1_slider = widgets.FloatSlider(value=1.0, min=0.1, max=5.0, step=0.1, description='Scale 1:')\n",
    "\n",
    "# Create an interactive output\n",
    "output = widgets.interactive_output(plot_vectors, {\n",
    "    'x1': x1_slider,\n",
    "    'y1': y1_slider,\n",
    "    'scale1': scale1_slider,\n",
    "})\n",
    "\n",
    "# Arrange the sliders and display the interactive output\n",
    "left_box = widgets.VBox([x1_slider, y1_slider, scale1_slider])\n",
    "ui = widgets.HBox([left_box])\n",
    "display(ui, output)\n"
   ]
  },
  {
   "cell_type": "markdown",
   "metadata": {},
   "source": [
    "## Vector Sum and Subtraction ##"
   ]
  },
  {
   "cell_type": "code",
   "execution_count": 35,
   "metadata": {},
   "outputs": [
    {
     "data": {
      "application/vnd.jupyter.widget-view+json": {
       "model_id": "86398e022b4a495b839e36e9fd9b0e00",
       "version_major": 2,
       "version_minor": 0
      },
      "text/plain": [
       "HBox(children=(VBox(children=(FloatSlider(value=1.0, description='Vector 1 X:', max=5.0, min=-5.0), FloatSlide…"
      ]
     },
     "metadata": {},
     "output_type": "display_data"
    },
    {
     "data": {
      "application/vnd.jupyter.widget-view+json": {
       "model_id": "93e4c03b93fc41df8b6aa972c992a356",
       "version_major": 2,
       "version_minor": 0
      },
      "text/plain": [
       "Output()"
      ]
     },
     "metadata": {},
     "output_type": "display_data"
    }
   ],
   "source": [
    "def plot_vectors(x1, y1, x2, y2, scale1, scale2):\n",
    "    # Define the two vectors and the sum vector\n",
    "    vector1 = np.array([x1, y1])\n",
    "    vector2 = np.array([x2, y2])\n",
    "\n",
    "    # Apply scaling to the original vectors\n",
    "    scaled_vector1 = scale1 * vector1\n",
    "    scaled_vector2 = scale2 * vector2\n",
    "    vector_sum = scaled_vector1 + scaled_vector2\n",
    "    vector_diff = scaled_vector2 - scaled_vector1\n",
    "\n",
    "    # Create the figure and axes\n",
    "    fig, ax = plt.subplots()\n",
    "    ax.set_aspect('equal', adjustable='box')\n",
    "    ax.quiver(0, 0, scaled_vector1[0], scaled_vector1[1], angles='xy', scale_units='xy', scale=1, color='b', label='Vector 1')\n",
    "    ax.quiver(0, 0, scaled_vector2[0], scaled_vector2[1], angles='xy', scale_units='xy', scale=1, color='g', label='Vector 2')\n",
    "    ax.quiver(0, 0, vector_sum[0], vector_sum[1], angles='xy', scale_units='xy', scale=1, color='r', label='Vector Sum')\n",
    "    ax.quiver(scaled_vector2[0], scaled_vector2[1], scaled_vector1[0], scaled_vector1[1], angles='xy', scale_units='xy', scale=1, color='b', alpha=0.5)\n",
    "    ax.quiver(scaled_vector1[0], scaled_vector1[1], scaled_vector2[0], scaled_vector2[1], angles='xy', scale_units='xy', scale=1, color='g', alpha=0.5)\n",
    "    ax.quiver(scaled_vector1[0], scaled_vector1[1], vector_diff[0], vector_diff[1], angles='xy', scale_units='xy', scale=1, color='k', alpha=0.7, label='Vector Subtraction')\n",
    "\n",
    "    \n",
    "    ax.set_xlim([-5, 5])\n",
    "    ax.set_ylim([-5, 5])\n",
    "    ax.axhline(y=0, color='k')\n",
    "    ax.axvline(x=0, color='k')\n",
    "    ax.legend()\n",
    "\n",
    "    plt.title(f\"Vector 1 Magnitude: {np.linalg.norm(vector1):.2f}, Vector 2 Magnitude: {np.linalg.norm(vector2):.2f}, Vector Sum Magnitude: {np.linalg.norm(vector_sum):.2f}\")\n",
    "    plt.grid()\n",
    "    plt.show()\n",
    "\n",
    "# Create sliders for vector 1 coordinates and scale\n",
    "x1_slider = widgets.FloatSlider(value=1.0, min=-5.0, max=5.0, step=0.1, description='Vector 1 X:')\n",
    "y1_slider = widgets.FloatSlider(value=2.0, min=-5.0, max=5.0, step=0.1, description='Vector 1 Y:')\n",
    "scale1_slider = widgets.FloatSlider(value=1.0, min=0.1, max=5.0, step=0.1, description='Scale 1:')\n",
    "\n",
    "# Create sliders for vector 2 coordinates and scale\n",
    "x2_slider = widgets.FloatSlider(value=2.0, min=-5.0, max=5.0, step=0.1, description='Vector 2 X:')\n",
    "y2_slider = widgets.FloatSlider(value=1.0, min=-5.0, max=5.0, step=0.1, description='Vector 2 Y:')\n",
    "scale2_slider = widgets.FloatSlider(value=1.0, min=0.1, max=5.0, step=0.1, description='Scale 2:')\n",
    "\n",
    "# Create an interactive output\n",
    "output = widgets.interactive_output(plot_vectors, {\n",
    "    'x1': x1_slider,\n",
    "    'y1': y1_slider,\n",
    "    'x2': x2_slider,\n",
    "    'y2': y2_slider,\n",
    "    'scale1': scale1_slider,\n",
    "    'scale2': scale2_slider,\n",
    "})\n",
    "\n",
    "# Arrange the sliders and display the interactive output\n",
    "left_box = widgets.VBox([x1_slider, y1_slider, scale1_slider])\n",
    "right_box = widgets.VBox([x2_slider, y2_slider, scale2_slider])\n",
    "ui = widgets.HBox([left_box, right_box])\n",
    "display(ui, output)\n"
   ]
  },
  {
   "cell_type": "markdown",
   "metadata": {},
   "source": [
    "## Dot Product ##"
   ]
  },
  {
   "cell_type": "code",
   "execution_count": 38,
   "metadata": {},
   "outputs": [
    {
     "data": {
      "application/vnd.jupyter.widget-view+json": {
       "model_id": "d454ab72e109407e8ea14ae02eede109",
       "version_major": 2,
       "version_minor": 0
      },
      "text/plain": [
       "HBox(children=(VBox(children=(FloatSlider(value=2.0, description='A X:', max=5.0, min=-5.0), FloatSlider(value…"
      ]
     },
     "metadata": {},
     "output_type": "display_data"
    },
    {
     "data": {
      "application/vnd.jupyter.widget-view+json": {
       "model_id": "c9b4271c27b440f7b5269f52432dec55",
       "version_major": 2,
       "version_minor": 0
      },
      "text/plain": [
       "Output()"
      ]
     },
     "metadata": {},
     "output_type": "display_data"
    }
   ],
   "source": [
    "def plot_dot_product(a1, a2, b1, b2):\n",
    "    # Create vectors A and B\n",
    "    vector_A = np.array([a1, a2])\n",
    "    vector_B = np.array([b1, b2])\n",
    "\n",
    "    # Calculate the dot product of A and B\n",
    "    dot_product = np.dot(vector_A, vector_B)\n",
    "\n",
    "    # Create the figure and axes\n",
    "    fig, ax = plt.subplots()\n",
    "    ax.set_aspect('equal', adjustable='box')\n",
    "\n",
    "    # Plot vector A\n",
    "    ax.quiver(0, 0, vector_A[0], vector_A[1], angles='xy', scale_units='xy', scale=1, color='b', label='Vector A')\n",
    "    \n",
    "    # Plot vector B\n",
    "    ax.quiver(0, 0, vector_B[0], vector_B[1], angles='xy', scale_units='xy', scale=1, color='g', label='Vector B')\n",
    "\n",
    "    # Plot the dot product as a red dashed line from vector A's tip to vector B's projection on vector A\n",
    "    projection = (np.dot(vector_A, vector_B) / np.linalg.norm(vector_A)**2) * vector_A\n",
    "    ax.quiver(0, 0, projection[0], projection[1], angles='xy', scale_units='xy', scale=1, color='g', alpha=0.5, label='Vector B projection on Vector A')\n",
    "    ax.quiver(projection[0], projection[1], vector_B[0] - projection[0], vector_B[1] - projection[1], angles='xy', scale_units='xy', scale=1, color='r', label='Dot Product')\n",
    "    \n",
    "    # Set plot limits\n",
    "    ax.set_xlim([-5, 5])\n",
    "    ax.set_ylim([-5, 5])\n",
    "    ax.axhline(y=0, color='k')\n",
    "    ax.axvline(x=0, color='k')\n",
    "    ax.legend()\n",
    "\n",
    "    plt.title(f\"Dot Product: {dot_product:.2f}\")\n",
    "    plt.grid()\n",
    "    plt.show()\n",
    "\n",
    "# Create sliders for vector A coordinates\n",
    "a1_slider = widgets.FloatSlider(value=2.0, min=-5.0, max=5.0, step=0.1, description='A X:')\n",
    "a2_slider = widgets.FloatSlider(value=1.0, min=-5.0, max=5.0, step=0.1, description='A Y:')\n",
    "\n",
    "# Create sliders for vector B coordinates\n",
    "b1_slider = widgets.FloatSlider(value=1.0, min=-5.0, max=5.0, step=0.1, description='B X:')\n",
    "b2_slider = widgets.FloatSlider(value=2.0, min=-5.0, max=5.0, step=0.1, description='B Y:')\n",
    "\n",
    "# Create an interactive output\n",
    "output = widgets.interactive_output(plot_dot_product, {\n",
    "    'a1': a1_slider,\n",
    "    'a2': a2_slider,\n",
    "    'b1': b1_slider,\n",
    "    'b2': b2_slider,\n",
    "})\n",
    "\n",
    "# Arrange the sliders and display the interactive output\n",
    "left_box = widgets.VBox([a1_slider, a2_slider])\n",
    "right_box = widgets.VBox([b1_slider, b2_slider])\n",
    "ui = widgets.HBox([left_box, right_box])\n",
    "display(ui, output)\n"
   ]
  },
  {
   "cell_type": "markdown",
   "metadata": {},
   "source": [
    "## Cross Product ##"
   ]
  },
  {
   "cell_type": "code",
   "execution_count": 37,
   "metadata": {},
   "outputs": [
    {
     "data": {
      "application/vnd.jupyter.widget-view+json": {
       "model_id": "1c785d4340644ea29b737e137fa7ea6b",
       "version_major": 2,
       "version_minor": 0
      },
      "text/plain": [
       "HBox(children=(VBox(children=(FloatSlider(value=1.0, description='Vector A X:', max=5.0, min=-5.0), FloatSlide…"
      ]
     },
     "metadata": {},
     "output_type": "display_data"
    },
    {
     "data": {
      "application/vnd.jupyter.widget-view+json": {
       "model_id": "fdff917c39d84c81ae771743b149b718",
       "version_major": 2,
       "version_minor": 0
      },
      "text/plain": [
       "Output()"
      ]
     },
     "metadata": {},
     "output_type": "display_data"
    }
   ],
   "source": [
    "def plot_cross_product(ax, a, b, style='quiver', elevation=30, azimuth=30):\n",
    "    # Calculate the cross product of A and B\n",
    "    cross_product = np.cross(a, b)\n",
    "\n",
    "    # Create vectors A and B\n",
    "    ax.quiver(0, 0, 0, a[0], a[1], a[2], color='b', label='Vector A')\n",
    "    ax.quiver(0, 0, 0, b[0], b[1], b[2], color='g', label='Vector B')\n",
    "    ax.quiver(0, 0, 0, cross_product[0], cross_product[1], cross_product[2], color='r', label='Cross Product')\n",
    "\n",
    "    # Create the plane that contains vector A and vector B\n",
    "    normal_vector = cross_product / np.linalg.norm(cross_product)\n",
    "    d = -np.dot(normal_vector, a)\n",
    "    xx, yy = np.meshgrid(np.linspace(-10, 10, 10), np.linspace(-10, 10, 10))\n",
    "    zz = (-normal_vector[0] * xx - normal_vector[1] * yy - d) * 1.0 / normal_vector[2]\n",
    "    ax.plot_surface(xx, yy, zz, alpha=0.3, color='lightblue')\n",
    "\n",
    "    # Set plot limits\n",
    "    max_val = max(np.linalg.norm(a), np.linalg.norm(b), np.linalg.norm(cross_product))\n",
    "    ax.set_xlim([-max_val, max_val])\n",
    "    ax.set_ylim([-max_val, max_val])\n",
    "    ax.set_zlim([-max_val, max_val])\n",
    "    ax.set_xlabel('X')\n",
    "    ax.set_ylabel('Y')\n",
    "    ax.set_zlabel('Z')\n",
    "    ax.legend()\n",
    "\n",
    "    ax.view_init(elev=elevation, azim=azimuth)  # Set the view angles\n",
    "\n",
    "    plt.title(\"Cross Product in 3D\")\n",
    "    plt.grid()\n",
    "\n",
    "# Define the interactive function with sliders and dropdown\n",
    "def interactive_plot(vector_A_x, vector_A_y, vector_A_z, vector_B_x, vector_B_y, vector_B_z, style, elevation, azimuth):\n",
    "    vector_A = np.array([vector_A_x, vector_A_y, vector_A_z])\n",
    "    vector_B = np.array([vector_B_x, vector_B_y, vector_B_z])\n",
    "\n",
    "    # Create the 3D plot\n",
    "    fig = plt.figure()\n",
    "    ax = fig.add_subplot(111, projection='3d')\n",
    "\n",
    "    plot_cross_product(ax, vector_A, vector_B, style=style, elevation=elevation, azimuth=azimuth)\n",
    "    plt.show()\n",
    "\n",
    "# Create sliders for vector A coordinates\n",
    "vector_A_x_slider = widgets.FloatSlider(value=1.0, min=-5.0, max=5.0, step=0.1, description='Vector A X:')\n",
    "vector_A_y_slider = widgets.FloatSlider(value=2.0, min=-5.0, max=5.0, step=0.1, description='Vector A Y:')\n",
    "vector_A_z_slider = widgets.FloatSlider(value=3.0, min=-5.0, max=5.0, step=0.1, description='Vector A Z:')\n",
    "\n",
    "# Create sliders for vector B coordinates\n",
    "vector_B_x_slider = widgets.FloatSlider(value=4.0, min=-5.0, max=5.0, step=0.1, description='Vector B X:')\n",
    "vector_B_y_slider = widgets.FloatSlider(value=5.0, min=-5.0, max=5.0, step=0.1, description='Vector B Y:')\n",
    "vector_B_z_slider = widgets.FloatSlider(value=6.0, min=-5.0, max=5.0, step=0.1, description='Vector B Z:')\n",
    "\n",
    "# Create a dropdown widget for visualization style\n",
    "style_dropdown = widgets.Dropdown(options=['quiver', 'line'], value='quiver', description='Visualization Style:')\n",
    "\n",
    "# Create sliders for elevation and azimuth angles\n",
    "elevation_slider = widgets.FloatSlider(value=30, min=0, max=90, step=1, description='Elevation Angle:')\n",
    "azimuth_slider = widgets.FloatSlider(value=30, min=0, max=360, step=1, description='Azimuth Angle:')\n",
    "\n",
    "# Create an interactive output\n",
    "output = widgets.interactive_output(interactive_plot, {\n",
    "    'vector_A_x': vector_A_x_slider,\n",
    "    'vector_A_y': vector_A_y_slider,\n",
    "    'vector_A_z': vector_A_z_slider,\n",
    "    'vector_B_x': vector_B_x_slider,\n",
    "    'vector_B_y': vector_B_y_slider,\n",
    "    'vector_B_z': vector_B_z_slider,\n",
    "    'style': style_dropdown,\n",
    "    'elevation': elevation_slider,\n",
    "    'azimuth': azimuth_slider\n",
    "})\n",
    "\n",
    "# Arrange the sliders and dropdown and display the interactive output\n",
    "vector_A_sliders = widgets.VBox([vector_A_x_slider, vector_A_y_slider, vector_A_z_slider])\n",
    "vector_B_sliders = widgets.VBox([vector_B_x_slider, vector_B_y_slider, vector_B_z_slider])\n",
    "view_sliders = widgets.VBox([elevation_slider, azimuth_slider])\n",
    "ui = widgets.HBox([vector_A_sliders, vector_B_sliders, style_dropdown, view_sliders])\n",
    "display(ui, output)\n"
   ]
  }
 ],
 "metadata": {
  "kernelspec": {
   "display_name": "Python 3",
   "language": "python",
   "name": "python3"
  },
  "language_info": {
   "codemirror_mode": {
    "name": "ipython",
    "version": 3
   },
   "file_extension": ".py",
   "mimetype": "text/x-python",
   "name": "python",
   "nbconvert_exporter": "python",
   "pygments_lexer": "ipython3",
   "version": "3.9.5"
  },
  "orig_nbformat": 4
 },
 "nbformat": 4,
 "nbformat_minor": 2
}
